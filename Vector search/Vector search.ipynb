{
 "cells": [
  {
   "cell_type": "code",
   "execution_count": 5,
   "id": "11503ead",
   "metadata": {},
   "outputs": [
    {
     "name": "stdout",
     "output_type": "stream",
     "text": [
      "Plot Image:\n"
     ]
    },
    {
     "data": {
      "text/html": [
       "<img src=\"https://atlas.web.cern.ch/Atlas/GROUPS/PHYSICS/PAPERS/HIGG-2013-27/fig_01a.png\"/>"
      ],
      "text/plain": [
       "<IPython.core.display.Image object>"
      ]
     },
     "metadata": {},
     "output_type": "display_data"
    },
    {
     "name": "stdout",
     "output_type": "stream",
     "text": [
      "Caption: Figure 01a: Representative tree-level Feynman diagrams for the production of the Higgs boson in association with a top pair (ttH) and the subsequent decay of the Higgs to bb, (a) and (b), and for the main background tt+bb (c).\n",
      "Mentioned: Figure 1a, b show two examples of tree-level diagrams for \\(t\\bar{t}H\\) production with a subsequent \\(H\\to b\\bar{b}\\) decay. A search for the associated production of the Higgs boson with a top-quark pair using several Higgs decay modes (including \\(H\\to b\\bar{b}\\)) has recently been published by the CMS Collaboration [24] quoting a ratio of the measured \\(t\\bar{t}H\\) signal cross section to the SM expectation for a Higgs boson mass of 125.6 GeV of \\(\\mu=2.8\\pm 1.0\\). The signal hypothesis is defined as a SM Higgs boson produced in association with a top-quark pair as shown in Fig. 1a, b. Hence no coupling of the Higgs boson to the \\(W\\) boson is accounted for in \\(|\\mathcal{M}_{i}|^{2}\\) to allow for a consistent treatment when performing the kinematic transformation. The Higgs boson is required to decay into a pair of \\(b\\)-quarks, while the top-quark pair decays into the single-lepton channel.\n",
      "Web Location: https://atlas.web.cern.ch/Atlas/GROUPS/PHYSICS/PAPERS/HIGG-2013-27/fig_01a.png\n"
     ]
    }
   ],
   "source": [
    "import json\n",
    "import numpy as np\n",
    "from sklearn.neighbors import NearestNeighbors\n",
    "import tensorflow as tf\n",
    "import tensorflow_hub as hub\n",
    "from IPython.display import Image, display\n",
    "\n",
    "# Function to load the Universal Sentence Encoder model\n",
    "def load_model():\n",
    "    return hub.load(\"https://tfhub.dev/google/universal-sentence-encoder/4\")\n",
    "\n",
    "# Function to generate embedding for the input text\n",
    "def embed_text(text, model):\n",
    "    return model([text]).numpy()[0]\n",
    "\n",
    "# Function to load data from JSON and prepare for KNN\n",
    "def load_data(json_file):\n",
    "    with open(json_file, 'r') as file:\n",
    "        data = json.load(file)\n",
    "    vectors = []\n",
    "    info = []\n",
    "    for obj in data:  # Assuming data is a list of dictionaries\n",
    "        if \"embedded vector\" in obj:\n",
    "            vectors.append(obj[\"embedded vector\"])\n",
    "            info.append((obj[\"Plots\"], obj[\"caption\"], obj[\"mentioned\"], obj[\"web location\"]))\n",
    "    return np.array(vectors), info\n",
    "\n",
    "# Function to perform KNN search\n",
    "def knn_search(query, model, vectors, info, n_neighbors=1):\n",
    "    query_vector = embed_text(query, model)\n",
    "    nbrs = NearestNeighbors(n_neighbors=n_neighbors, algorithm='ball_tree').fit(vectors)\n",
    "    distances, indices = nbrs.kneighbors([query_vector])\n",
    "    closest = indices[0][0]\n",
    "    return info[closest]\n",
    "\n",
    "# Main function to use for search\n",
    "def vector_search(query):\n",
    "    model = load_model()\n",
    "    vectors, info = load_data('EmbeddedDB.json')\n",
    "    closest_match = knn_search(query, model, vectors, info)\n",
    "    return closest_match\n",
    "\n",
    "# Example usage\n",
    "query = \"Higgs boson production\"\n",
    "result = vector_search(query)\n",
    "\n",
    "# Output the results\n",
    "print(\"Plot Image:\")\n",
    "display(Image(url=result[3]))  # Displaying image from the web location\n",
    "print(\"Caption:\", result[1])\n",
    "print(\"Mentioned:\", result[2])\n",
    "print(\"Web Location:\", result[3])\n"
   ]
  },
  {
   "cell_type": "code",
   "execution_count": null,
   "id": "fa3e415e",
   "metadata": {},
   "outputs": [],
   "source": []
  },
  {
   "cell_type": "code",
   "execution_count": null,
   "id": "76e63696",
   "metadata": {},
   "outputs": [],
   "source": []
  }
 ],
 "metadata": {
  "kernelspec": {
   "display_name": "Python 3",
   "language": "python",
   "name": "python3"
  },
  "language_info": {
   "codemirror_mode": {
    "name": "ipython",
    "version": 3
   },
   "file_extension": ".py",
   "mimetype": "text/x-python",
   "name": "python",
   "nbconvert_exporter": "python",
   "pygments_lexer": "ipython3",
   "version": "3.8.8"
  }
 },
 "nbformat": 4,
 "nbformat_minor": 5
}
